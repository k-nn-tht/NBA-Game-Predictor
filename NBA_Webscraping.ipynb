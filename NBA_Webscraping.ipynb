{
 "cells": [
  {
   "cell_type": "code",
   "execution_count": null,
   "id": "4ee7fc3f-c720-4d28-a263-b2223af44da4",
   "metadata": {},
   "outputs": [],
   "source": [
    "import requests\n",
    "from bs4 import BeautifulSoup\n",
    "import pandas as pd\n",
    "from io import StringIO\n",
    "import time"
   ]
  },
  {
   "cell_type": "code",
   "execution_count": null,
   "id": "8e0abbf1-2bf9-41c0-988a-b287d8cc8fcb",
   "metadata": {},
   "outputs": [],
   "source": [
    "years = list(range(2024, 2021, -1))\n",
    "all_matches = []\n",
    "standings_url = \"https://www.basketball-reference.com/leagues/NBA_2024.html\"\n",
    "seasons = []"
   ]
  },
  {
   "cell_type": "code",
   "execution_count": null,
   "id": "28835e09-d8aa-47b6-b986-4ed5a3fb9c2f",
   "metadata": {},
   "outputs": [],
   "source": [
    "for year in years:\n",
    "    data = requests.get(standings_url)\n",
    "    soup = BeautifulSoup(data.text)\n",
    "    standings_table = soup.select('table#per_game-team')[0]\n",
    "    \n",
    "    links = standings_table.find_all('a')\n",
    "    links = [link.get(\"href\") for link in links]\n",
    "    team_urls = [f\"https://www.basketball-reference.com{l}\" for l in links]\n",
    "\n",
    "    previous_season = soup.select(\"a.button2.prev\")[0].get(\"href\")\n",
    "    standings_url = f\"https://www.basketball-reference.com{previous_season}\"\n",
    "\n",
    "    for team_url in team_urls:\n",
    "        team_name = team_url.split(\"/\")[-2]\n",
    "        data = requests.get(team_url)\n",
    "        \n",
    "        gameLink = BeautifulSoup(data.text)\n",
    "        links = gameLink.select('div#bottom_nav_container.section_content ul li')\n",
    "        \n",
    "        for l in links:\n",
    "            link = l.find('a')\n",
    "            if link and \"Game Log\" in link.get_text():\n",
    "                gameLink = link.get(\"href\")\n",
    "\n",
    "        gameLink = f\"https://www.basketball-reference.com{gameLink}\"\n",
    "        data = requests.get(gameLink)\n",
    "        gameLog = StringIO(data.text)\n",
    "        matches = pd.read_html(gameLog, match=\"Regular Season\")[0]\n",
    "        matches[\"Season\"] = year\n",
    "        matches[\"team\"] = team_name\n",
    "\n",
    "        matches.columns = matches.columns.droplevel()\n",
    "        new_columns = matches.columns.tolist()\n",
    "        new_columns[41] = 'season'\n",
    "        new_columns[42] = 'team'\n",
    "        for i in range(25, 41):\n",
    "            if(not('Opp_' in matches.columns[i])):\n",
    "                 new_columns[i] = 'Opp_' + new_columns[i]\n",
    "\n",
    "        matches.columns = new_columns\n",
    "\n",
    "        all_matches.append(matches)\n",
    "        time.sleep(3)"
   ]
  },
  {
   "cell_type": "code",
   "execution_count": null,
   "id": "f5b41e4a-fec9-4ebf-8433-4220126d08ec",
   "metadata": {},
   "outputs": [],
   "source": [
    "match_df = pd.concat(all_matches)\n",
    "match_df.columns = [c.lower() for c in match_df.columns]\n",
    "match_df.to_csv(\"nba_games\")"
   ]
  }
 ],
 "metadata": {
  "kernelspec": {
   "display_name": "Python 3 (ipykernel)",
   "language": "python",
   "name": "python3"
  },
  "language_info": {
   "codemirror_mode": {
    "name": "ipython",
    "version": 3
   },
   "file_extension": ".py",
   "mimetype": "text/x-python",
   "name": "python",
   "nbconvert_exporter": "python",
   "pygments_lexer": "ipython3",
   "version": "3.12.4"
  }
 },
 "nbformat": 4,
 "nbformat_minor": 5
}
